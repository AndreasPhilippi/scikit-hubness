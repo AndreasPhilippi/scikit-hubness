{
 "cells": [
  {
   "cell_type": "markdown",
   "metadata": {},
   "source": [
    "# Quickstart"
   ]
  },
  {
   "cell_type": "markdown",
   "metadata": {},
   "source": [
    "Here we will analyse a dataset from the text domain (dexter) for hubness,\n",
    "we will reduce hubness, and compare nearest neighbor classification\n",
    "with or without hubness reduction."
   ]
  },
  {
   "cell_type": "code",
   "execution_count": 3,
   "metadata": {},
   "outputs": [],
   "source": [
    "%load_ext autoreload\n",
    "%autoreload 2"
   ]
  },
  {
   "cell_type": "code",
   "execution_count": 8,
   "metadata": {},
   "outputs": [
    {
     "data": {
      "text/plain": [
       "((300, 20000), (300,))"
      ]
     },
     "execution_count": 8,
     "metadata": {},
     "output_type": "execute_result"
    }
   ],
   "source": [
    "# load the example dataset 'dexter'\n",
    "from hubness.data import load_dexter\n",
    "X, y = load_dexter()\n",
    "\n",
    "# dexter is embedded in a high-dimensional space,\n",
    "# and could, thus, be prone to hubness\n",
    "X.shape, y.shape"
   ]
  },
  {
   "cell_type": "code",
   "execution_count": 21,
   "metadata": {},
   "outputs": [
    {
     "data": {
      "text/plain": [
       "4.222131665788378"
      ]
     },
     "execution_count": 21,
     "metadata": {},
     "output_type": "execute_result"
    }
   ],
   "source": [
    "# assess the actual degree of hubness in dexter\n",
    "from hubness import Hubness\n",
    "hub = Hubness(k=5, metric='cosine')\n",
    "hub.fit_transform(X)\n",
    "hub.k_skewness_"
   ]
  },
  {
   "cell_type": "code",
   "execution_count": 22,
   "metadata": {},
   "outputs": [
    {
     "name": "stdout",
     "output_type": "stream",
     "text": [
      "Robin hood index: 0.543\n",
      "Antihub occurrence: 0.267\n",
      "Hub occurrence: 0.634\n"
     ]
    }
   ],
   "source": [
    "# additional hubness indices are available, for example:\n",
    "print(f'Robin hood index: {hub.robinhood_index_:.3f}')\n",
    "print(f'Antihub occurrence: {hub.antihub_occurrence_:.3f}')\n",
    "print(f'Hub occurrence: {hub.hub_occurrence_:.3f}')"
   ]
  },
  {
   "cell_type": "code",
   "execution_count": 28,
   "metadata": {},
   "outputs": [
    {
     "name": "stdout",
     "output_type": "stream",
     "text": [
      "Accuracy (vanilla kNN): 0.793\n",
      "Accuracy (kNN with hubness reduction): 0.893\n"
     ]
    }
   ],
   "source": [
    "# There is considerable hubness in dexter.\n",
    "# Let's see, whether hubness reduction can improve\n",
    "# kNN classification performance \n",
    "from sklearn.model_selection import cross_val_score\n",
    "from hubness.neighbors import KNeighborsClassifier\n",
    "\n",
    "# vanilla kNN\n",
    "knn_standard = KNeighborsClassifier(n_neighbors=5,\n",
    "                                    metric='cosine')\n",
    "acc_standard = cross_val_score(knn_standard, X, y, cv=5)\n",
    "\n",
    "# kNN with hubness reduction (mutual proximity)\n",
    "knn_mp = KNeighborsClassifier(n_neighbors=5,\n",
    "                              metric='cosine',\n",
    "                              hubness='mutual_proximity')\n",
    "acc_mp = cross_val_score(knn_mp, X, y, cv=5)\n",
    "\n",
    "print(f'Accuracy (vanilla kNN): {acc_standard.mean():.3f}')\n",
    "print(f'Accuracy (kNN with hubness reduction): {acc_mp.mean():.3f}')"
   ]
  },
  {
   "cell_type": "code",
   "execution_count": 37,
   "metadata": {},
   "outputs": [
    {
     "name": "stdout",
     "output_type": "stream",
     "text": [
      "Skewness: 0.933 (reduction of 3.289)\n",
      "Robin hood: 0.288 (reduction of 0.255)\n"
     ]
    }
   ],
   "source": [
    "# Accuracy was considerably improved by mutual proximity.\n",
    "# Did it actually reduce hubness?\n",
    "knn_mp.fit(X, y)\n",
    "neighbor_graph = knn_mp.kneighbors_graph()\n",
    "\n",
    "hub_mp = Hubness(k=5, metric='precomputed').estimate(neighbor_graph)\n",
    "print(f'Skewness: {hub_mp.k_skewness_:.3f} (reduction of {hub.k_skewness_ - hub_mp.k_skewness_:.3f})')\n",
    "print(f'Robin hood: {hub_mp.robinhood_index_:.3f} (reduction of {hub.robinhood_index_ - hub_mp.robinhood_index_:.3f})')"
   ]
  },
  {
   "cell_type": "code",
   "execution_count": null,
   "metadata": {},
   "outputs": [],
   "source": [
    "# The neighbor graph can also be created directly,\n",
    "# with or without hubness reduction\n",
    "from hubness.neighbors import kneighbors_graph\n",
    "neighbor_graph = kneighbors_graph(X, n_neighbors=5, hubness='mutual_proximity')\n"
   ]
  },
  {
   "cell_type": "code",
   "execution_count": null,
   "metadata": {},
   "outputs": [],
   "source": [
    "# assess the actual degree of hubness in dexter\n",
    "from skhubness import Hubness\n",
    "hub = Hubness(k=10, metric='cosine')\n",
    "hub.fit(X)\n",
    "k_skew = hub.score()\n",
    "print(f'Skewness = {k_skew:.3f}')\n",
    "\n",
    "# additional hubness indices are available, for example:\n",
    "print(f'Robin hood index: {hub.robinhood_index:.3f}')\n",
    "print(f'Antihub occurrence: {hub.antihub_occurrence:.3f}')\n",
    "print(f'Hub occurrence: {hub.hub_occurrence:.3f}')\n",
    "\n",
    "# There is considerable hubness in dexter.\n",
    "# Let's see, whether hubness reduction can improve\n",
    "# kNN classification performance \n",
    "from sklearn.model_selection import cross_val_score\n",
    "from skhubness.neighbors import KNeighborsClassifier\n",
    "\n",
    "# vanilla kNN\n",
    "knn_standard = KNeighborsClassifier(n_neighbors=5,\n",
    "                                    metric='cosine')\n",
    "acc_standard = cross_val_score(knn_standard, X, y, cv=5)\n",
    "\n",
    "# kNN with hubness reduction (mutual proximity)\n",
    "knn_mp = KNeighborsClassifier(n_neighbors=5,\n",
    "                              metric='cosine',\n",
    "                              hubness='mutual_proximity')\n",
    "acc_mp = cross_val_score(knn_mp, X, y, cv=5)\n",
    "\n",
    "print(f'Accuracy (vanilla kNN): {acc_standard.mean():.3f}')\n",
    "print(f'Accuracy (kNN with hubness reduction): {acc_mp.mean():.3f}')\n",
    "\n",
    "# Accuracy was considerably improved by mutual proximity.\n",
    "# Did it actually reduce hubness?\n",
    "hub_mp = Hubness(k=10, metric='cosine',\n",
    "                 hubness='mutual_proximity')\n",
    "hub_mp.fit(X)\n",
    "k_skew_mp = hub_mp.score()\n",
    "print(f'Skewness: {k_skew:.3f} '\n",
    "      f'(reduction of {k_skew - k_skew_mp:.3f})')\n",
    "print(f'Robin hood: {hub_mp.robinhood_index:.3f} '\n",
    "      f'(reduction of {hub.robinhood_index - hub_mp.robinhood_index:.3f})')\n",
    "\n",
    "# The neighbor graph can also be created directly,\n",
    "# with or without hubness reduction\n",
    "from skhubness.neighbors import kneighbors_graph\n",
    "neighbor_graph = kneighbors_graph(X, n_neighbors=5, hubness='mutual_proximity')"
   ]
  },
  {
   "cell_type": "code",
   "execution_count": 1,
   "metadata": {},
   "outputs": [],
   "source": [
    "from sklearn.datasets import make_sparse_spd_matrix"
   ]
  },
  {
   "cell_type": "code",
   "execution_count": 3,
   "metadata": {},
   "outputs": [],
   "source": [
    "sparse = make_sparse_spd_matrix(50, )"
   ]
  },
  {
   "cell_type": "code",
   "execution_count": 10,
   "metadata": {},
   "outputs": [
    {
     "data": {
      "text/plain": [
       "(50, 50)"
      ]
     },
     "execution_count": 10,
     "metadata": {},
     "output_type": "execute_result"
    }
   ],
   "source": [
    "sparse.shape"
   ]
  },
  {
   "cell_type": "code",
   "execution_count": 9,
   "metadata": {},
   "outputs": [
    {
     "data": {
      "text/plain": [
       "(2254,)"
      ]
     },
     "execution_count": 9,
     "metadata": {},
     "output_type": "execute_result"
    }
   ],
   "source": [
    "sparse[sparse == 0].shape"
   ]
  },
  {
   "cell_type": "code",
   "execution_count": 12,
   "metadata": {},
   "outputs": [
    {
     "data": {
      "text/plain": [
       "numpy.ndarray"
      ]
     },
     "execution_count": 12,
     "metadata": {},
     "output_type": "execute_result"
    }
   ],
   "source": [
    "sparse.__class__"
   ]
  }
 ],
 "metadata": {
  "kernelspec": {
   "display_name": "Python 3.7 (hubness)",
   "language": "python",
   "name": "hubness"
  },
  "language_info": {
   "codemirror_mode": {
    "name": "ipython",
    "version": 3
   },
   "file_extension": ".py",
   "mimetype": "text/x-python",
   "name": "python",
   "nbconvert_exporter": "python",
   "pygments_lexer": "ipython3",
   "version": "3.7.3"
  }
 },
 "nbformat": 4,
 "nbformat_minor": 4
}
