{
 "cells": [
  {
   "cell_type": "markdown",
   "metadata": {},
   "source": [
    "# Quickstart"
   ]
  },
  {
   "cell_type": "markdown",
   "metadata": {},
   "source": [
    "Here we will analyse a dataset from the text domain (dexter) for hubness,\n",
    "we will reduce hubness, and compare nearest neighbor classification\n",
    "with or without hubness reduction."
   ]
  },
  {
   "cell_type": "code",
   "execution_count": 13,
   "metadata": {},
   "outputs": [],
   "source": [
    "%load_ext autoreload\n",
    "%autoreload 2"
   ]
  },
  {
   "cell_type": "code",
   "execution_count": 38,
   "metadata": {},
   "outputs": [
    {
     "name": "stdout",
     "output_type": "stream",
     "text": [
      "X.shape = (300, 20000), y.shape=(300,)\n"
     ]
    }
   ],
   "source": [
    "# load the example dataset 'dexter'\n",
    "from skhubness.data import load_dexter\n",
    "X, y = load_dexter()\n",
    "\n",
    "# dexter is embedded in a high-dimensional space,\n",
    "# and could, thus, be prone to hubness\n",
    "print(f'X.shape = {X.shape}, y.shape={y.shape}')\n"
   ]
  },
  {
   "cell_type": "code",
   "execution_count": 37,
   "metadata": {},
   "outputs": [
    {
     "name": "stdout",
     "output_type": "stream",
     "text": [
      "Skewness = 3.977\n"
     ]
    }
   ],
   "source": [
    "# assess the actual degree of hubness in dexter\n",
    "from skhubness import Hubness\n",
    "hub = Hubness(k=10, metric='cosine')\n",
    "hub.fit(X)\n",
    "k_skew = hub.score()\n",
    "print(f'Skewness = {k_skew:.3f}')"
   ]
  },
  {
   "cell_type": "code",
   "execution_count": 36,
   "metadata": {},
   "outputs": [
    {
     "name": "stdout",
     "output_type": "stream",
     "text": [
      "Robin hood index: 0.557\n",
      "Antihub occurrence: 0.177\n",
      "Hub occurrence: 0.646\n"
     ]
    }
   ],
   "source": [
    "# additional hubness indices are available, for example:\n",
    "print(f'Robin hood index: {hub.robinhood_index:.3f}')\n",
    "print(f'Antihub occurrence: {hub.antihub_occurrence:.3f}')\n",
    "print(f'Hub occurrence: {hub.hub_occurrence:.3f}')"
   ]
  },
  {
   "cell_type": "code",
   "execution_count": 35,
   "metadata": {},
   "outputs": [
    {
     "name": "stdout",
     "output_type": "stream",
     "text": [
      "Accuracy (vanilla kNN): 0.793\n",
      "Accuracy (kNN with hubness reduction): 0.893\n"
     ]
    }
   ],
   "source": [
    "# There is considerable hubness in dexter.\n",
    "# Let's see, whether hubness reduction can improve\n",
    "# kNN classification performance \n",
    "from sklearn.model_selection import cross_val_score\n",
    "from skhubness.neighbors import KNeighborsClassifier\n",
    "\n",
    "# vanilla kNN\n",
    "knn_standard = KNeighborsClassifier(n_neighbors=5,\n",
    "                                    metric='cosine')\n",
    "acc_standard = cross_val_score(knn_standard, X, y, cv=5)\n",
    "\n",
    "# kNN with hubness reduction (mutual proximity)\n",
    "knn_mp = KNeighborsClassifier(n_neighbors=5,\n",
    "                              metric='cosine',\n",
    "                              hubness='mutual_proximity')\n",
    "acc_mp = cross_val_score(knn_mp, X, y, cv=5)\n",
    "\n",
    "print(f'Accuracy (vanilla kNN): {acc_standard.mean():.3f}')\n",
    "print(f'Accuracy (kNN with hubness reduction): {acc_mp.mean():.3f}')"
   ]
  },
  {
   "cell_type": "code",
   "execution_count": 34,
   "metadata": {},
   "outputs": [
    {
     "name": "stdout",
     "output_type": "stream",
     "text": [
      "Skewness: 3.977 (reduction of 2.917)\n",
      "Robin hood: 0.308 (reduction of 0.248)\n"
     ]
    }
   ],
   "source": [
    "# Accuracy was considerably improved by mutual proximity.\n",
    "# Did it actually reduce hubness?\n",
    "hub_mp = Hubness(k=10, metric='cosine',\n",
    "                 hubness='mutual_proximity')\n",
    "hub_mp.fit(X)\n",
    "k_skew_mp = hub_mp.score()\n",
    "print(f'Skewness: {k_skew:.3f} '\n",
    "      f'(reduction of {k_skew - k_skew_mp:.3f})')\n",
    "print(f'Robin hood: {hub_mp.robinhood_index:.3f} '\n",
    "      f'(reduction of {hub.robinhood_index - hub_mp.robinhood_index:.3f})')"
   ]
  }
 ],
 "metadata": {
  "kernelspec": {
   "display_name": "Python 3.7 (hubness)",
   "language": "python",
   "name": "hubness"
  },
  "language_info": {
   "codemirror_mode": {
    "name": "ipython",
    "version": 3
   },
   "file_extension": ".py",
   "mimetype": "text/x-python",
   "name": "python",
   "nbconvert_exporter": "python",
   "pygments_lexer": "ipython3",
   "version": "3.7.3"
  }
 },
 "nbformat": 4,
 "nbformat_minor": 4
}
